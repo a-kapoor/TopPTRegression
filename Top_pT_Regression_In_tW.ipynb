{
 "cells": [
  {
   "cell_type": "markdown",
   "id": "b8d5f8a0",
   "metadata": {},
   "source": [
    "# Hands on regression of <mark>top quark pT</mark> in tW events"
   ]
  },
  {
   "cell_type": "markdown",
   "id": "854f95fe",
   "metadata": {},
   "source": [
    "## Some imports"
   ]
  },
  {
   "cell_type": "code",
   "execution_count": 1,
   "id": "a66f19fa",
   "metadata": {},
   "outputs": [],
   "source": [
    "import pandas as pd\n",
    "import os\n",
    "try:\n",
    "    import uproot3 as uproot\n",
    "except ImportError:\n",
    "    import uproot"
   ]
  },
  {
   "cell_type": "markdown",
   "id": "6f03435d",
   "metadata": {},
   "source": [
    "## Define a dictionary for process"
   ]
  },
  {
   "cell_type": "code",
   "execution_count": 2,
   "id": "b74e24fd",
   "metadata": {},
   "outputs": [],
   "source": [
    "process =[\n",
    "    {'Class':'tW','path':['/scratch/tW//OutTree_1.root', \n",
    "                          '/scratch/tW//OutTree_16.root'],\n",
    "     'xsecwt': 1,\n",
    "     'selection':'EVENT_event>0'\n",
    "    }\n",
    "]"
   ]
  },
  {
   "cell_type": "markdown",
   "id": "f50ab7ad",
   "metadata": {},
   "source": [
    "## Read data from root files as dataframe"
   ]
  },
  {
   "cell_type": "code",
   "execution_count": 3,
   "id": "fe44ddbd",
   "metadata": {},
   "outputs": [],
   "source": [
    "import Tools.readData as readData\n",
    "\n",
    "loadNew=False\n",
    "\n",
    "if loadNew==True:\n",
    "    df=readData.daskframe_from_rootfiles(process,\"TNT/BOOM\",branches=[\"Gen*\",\n",
    "                                                                      \"Muon_pt\",\"Muon_eta\",\"Muon_phi\",\n",
    "                                                                      \"Jet_pt\",\"Jet_eta\",\"Jet_phi\",'Jet_pfCombinedInclusiveSecondaryVertexV2BJetTags',\n",
    "                                                                      'Met_type1PF_pt','Met_type1PF_sumEt'\n",
    "                                                                      'EVENT_event'],flatten=False,debug=False)\n",
    "    df.to_parquet('df.parquet.gzip',compression='gzip')\n",
    "else:\n",
    "    df=pd.read_parquet('df.parquet.gzip')\n",
    "    "
   ]
  },
  {
   "cell_type": "code",
   "execution_count": 4,
   "id": "4bef1eaf",
   "metadata": {},
   "outputs": [
    {
     "name": "stdout",
     "output_type": "stream",
     "text": [
      "Total events read 212440\n"
     ]
    }
   ],
   "source": [
    "print(f'Total events read {len(df)}')"
   ]
  },
  {
   "cell_type": "code",
   "execution_count": 5,
   "id": "f40d0539",
   "metadata": {},
   "outputs": [
    {
     "data": {
      "text/html": [
       "<div>\n",
       "<style scoped>\n",
       "    .dataframe tbody tr th:only-of-type {\n",
       "        vertical-align: middle;\n",
       "    }\n",
       "\n",
       "    .dataframe tbody tr th {\n",
       "        vertical-align: top;\n",
       "    }\n",
       "\n",
       "    .dataframe thead th {\n",
       "        text-align: right;\n",
       "    }\n",
       "</style>\n",
       "<table border=\"1\" class=\"dataframe\">\n",
       "  <thead>\n",
       "    <tr style=\"text-align: right;\">\n",
       "      <th></th>\n",
       "      <th>Gen_pt</th>\n",
       "      <th>Gen_eta</th>\n",
       "      <th>Gen_phi</th>\n",
       "      <th>Gen_p</th>\n",
       "      <th>Gen_energy</th>\n",
       "      <th>Gen_charge</th>\n",
       "      <th>Gen_vx</th>\n",
       "      <th>Gen_vy</th>\n",
       "      <th>Gen_vz</th>\n",
       "      <th>Gen_status</th>\n",
       "      <th>...</th>\n",
       "      <th>Met_xyCorrY</th>\n",
       "      <th>Met_type1PF_uncorrPx</th>\n",
       "      <th>Met_type1PF_uncorrPy</th>\n",
       "      <th>Met_type1PF_uncorrPt</th>\n",
       "      <th>Met_type1PF_uncorrPhi</th>\n",
       "      <th>Met_type1PF_shiftedPtUp</th>\n",
       "      <th>Met_type1PF_shiftedPtDown</th>\n",
       "      <th>EVENT_event</th>\n",
       "      <th>Class</th>\n",
       "      <th>xsecwt</th>\n",
       "    </tr>\n",
       "  </thead>\n",
       "  <tbody>\n",
       "    <tr>\n",
       "      <th>0</th>\n",
       "      <td>[0.0, 0.0, 0.0, 0.0, 26.742555618286133, 82.88...</td>\n",
       "      <td>[29256.0, -29256.0, 22786.3359375, -24395.5878...</td>\n",
       "      <td>[0.0, 0.0, 0.0, 0.0, 2.160212993621826, -2.290...</td>\n",
       "      <td>[6500.0, 6500.0, 30.3359375, 1639.587890625, 4...</td>\n",
       "      <td>[6500.000067719272, 6500.000067719272, 30.3359...</td>\n",
       "      <td>[1.0, 1.0, 0.0, 0.0, 0.0, 0.0, -1.0, 0.0, 0.0,...</td>\n",
       "      <td>[0.0, 0.0, 0.10522079467773438, 0.105220794677...</td>\n",
       "      <td>[0.0, 0.0, 0.1687268167734146, 0.1687268167734...</td>\n",
       "      <td>[0.0, 0.0, -13.759533882141113, -13.7595338821...</td>\n",
       "      <td>[4.0, 4.0, 21.0, 21.0, 23.0, 22.0, 22.0, 41.0,...</td>\n",
       "      <td>...</td>\n",
       "      <td>-0.685861</td>\n",
       "      <td>-20.878354</td>\n",
       "      <td>-38.614645</td>\n",
       "      <td>43.897568</td>\n",
       "      <td>-2.066460</td>\n",
       "      <td>52.435719</td>\n",
       "      <td>49.454834</td>\n",
       "      <td>10653</td>\n",
       "      <td>tW</td>\n",
       "      <td>1</td>\n",
       "    </tr>\n",
       "    <tr>\n",
       "      <th>1</th>\n",
       "      <td>[0.0, 0.0, 0.0, 0.0, 43.479156494140625, 41.18...</td>\n",
       "      <td>[29256.0, -29256.0, 22997.68359375, -22884.091...</td>\n",
       "      <td>[0.0, 0.0, 0.0, 0.0, 0.13389289379119873, -0.6...</td>\n",
       "      <td>[6500.0, 6500.0, 241.68359375, 128.091796875, ...</td>\n",
       "      <td>[6500.000067719272, 6500.000067719272, 241.683...</td>\n",
       "      <td>[1.0, 1.0, 0.0, 0.0, 0.0, 0.0, -1.0, 0.0, 0.0,...</td>\n",
       "      <td>[0.0, 0.0, 0.10435939580202103, 0.104359395802...</td>\n",
       "      <td>[0.0, 0.0, 0.16953521966934204, 0.169535219669...</td>\n",
       "      <td>[0.0, 0.0, -0.9217044711112976, -0.92170447111...</td>\n",
       "      <td>[4.0, 4.0, 21.0, 21.0, 23.0, 22.0, 22.0, 42.0,...</td>\n",
       "      <td>...</td>\n",
       "      <td>-1.175968</td>\n",
       "      <td>-38.604541</td>\n",
       "      <td>28.169945</td>\n",
       "      <td>47.789711</td>\n",
       "      <td>2.511207</td>\n",
       "      <td>41.208508</td>\n",
       "      <td>43.899719</td>\n",
       "      <td>10645</td>\n",
       "      <td>tW</td>\n",
       "      <td>1</td>\n",
       "    </tr>\n",
       "    <tr>\n",
       "      <th>2</th>\n",
       "      <td>[0.0, 0.0, 0.0, 0.0, 60.74887466430664, 270.22...</td>\n",
       "      <td>[29256.0, -29256.0, 23656.546875, -22896.58593...</td>\n",
       "      <td>[0.0, 0.0, 0.0, 0.0, -0.5050231218338013, 1.64...</td>\n",
       "      <td>[6500.0, 6500.0, 900.546875, 140.5859375, 65.1...</td>\n",
       "      <td>[6500.000067719272, 6500.000067719272, 900.546...</td>\n",
       "      <td>[1.0, 1.0, 0.0, 0.0, 0.0, 0.0, -1.0, 0.0, 0.0,...</td>\n",
       "      <td>[0.0, 0.0, 0.10467060655355453, 0.104670606553...</td>\n",
       "      <td>[0.0, 0.0, 0.16912251710891724, 0.169122517108...</td>\n",
       "      <td>[0.0, 0.0, -5.6016340255737305, -5.60163402557...</td>\n",
       "      <td>[4.0, 4.0, 21.0, 21.0, 23.0, 22.0, 22.0, 41.0,...</td>\n",
       "      <td>...</td>\n",
       "      <td>-0.850891</td>\n",
       "      <td>-38.590693</td>\n",
       "      <td>123.467511</td>\n",
       "      <td>129.357910</td>\n",
       "      <td>1.873734</td>\n",
       "      <td>146.348312</td>\n",
       "      <td>141.209946</td>\n",
       "      <td>10647</td>\n",
       "      <td>tW</td>\n",
       "      <td>1</td>\n",
       "    </tr>\n",
       "    <tr>\n",
       "      <th>3</th>\n",
       "      <td>[0.0, 0.0, 0.0, 0.0, 24.30813217163086, 70.529...</td>\n",
       "      <td>[29256.0, -29256.0, 23128.0703125, -22842.5078...</td>\n",
       "      <td>[0.0, 0.0, 0.0, 0.0, 0.06516370177268982, 2.84...</td>\n",
       "      <td>[6500.0, 6500.0, 372.0703125, 86.5078125, 124....</td>\n",
       "      <td>[6500.000067719272, 6500.000067719272, 372.070...</td>\n",
       "      <td>[1.0, 1.0, 0.0, 0.0, 0.0, 0.0, -1.0, 0.0, 0.0,...</td>\n",
       "      <td>[0.0, 0.0, 0.10517765581607819, 0.105177655816...</td>\n",
       "      <td>[0.0, 0.0, 0.16616767644882202, 0.166167676448...</td>\n",
       "      <td>[0.0, 0.0, -3.8599727153778076, -3.85997271537...</td>\n",
       "      <td>[4.0, 4.0, 21.0, 21.0, 23.0, 22.0, 22.0, 41.0,...</td>\n",
       "      <td>...</td>\n",
       "      <td>-0.736927</td>\n",
       "      <td>40.451099</td>\n",
       "      <td>-42.437467</td>\n",
       "      <td>58.627895</td>\n",
       "      <td>-0.809358</td>\n",
       "      <td>73.711586</td>\n",
       "      <td>69.418488</td>\n",
       "      <td>10646</td>\n",
       "      <td>tW</td>\n",
       "      <td>1</td>\n",
       "    </tr>\n",
       "    <tr>\n",
       "      <th>4</th>\n",
       "      <td>[0.0, 0.0, 0.0, 0.0, 56.3435173034668, 137.665...</td>\n",
       "      <td>[29256.0, -29256.0, 22933.185546875, -23353.98...</td>\n",
       "      <td>[0.0, 0.0, 0.0, 0.0, -1.403946876525879, -2.29...</td>\n",
       "      <td>[6500.0, 6500.0, 177.185546875, 597.984375, 35...</td>\n",
       "      <td>[6500.000067719272, 6500.000067719272, 177.185...</td>\n",
       "      <td>[1.0, 1.0, 0.0, 0.0, 0.0, 0.0, -1.0, 0.0, 0.0,...</td>\n",
       "      <td>[0.0, 0.0, 0.10499045252799988, 0.104990452527...</td>\n",
       "      <td>[0.0, 0.0, 0.1677093505859375, 0.1677093505859...</td>\n",
       "      <td>[0.0, 0.0, 4.907552719116211, 4.90755271911621...</td>\n",
       "      <td>[4.0, 4.0, 21.0, 21.0, 23.0, 22.0, 22.0, 44.0,...</td>\n",
       "      <td>...</td>\n",
       "      <td>-1.057355</td>\n",
       "      <td>-29.239733</td>\n",
       "      <td>-88.317443</td>\n",
       "      <td>93.031891</td>\n",
       "      <td>-1.890513</td>\n",
       "      <td>91.811768</td>\n",
       "      <td>95.199142</td>\n",
       "      <td>10657</td>\n",
       "      <td>tW</td>\n",
       "      <td>1</td>\n",
       "    </tr>\n",
       "  </tbody>\n",
       "</table>\n",
       "<p>5 rows × 338 columns</p>\n",
       "</div>"
      ],
      "text/plain": [
       "                                              Gen_pt  \\\n",
       "0  [0.0, 0.0, 0.0, 0.0, 26.742555618286133, 82.88...   \n",
       "1  [0.0, 0.0, 0.0, 0.0, 43.479156494140625, 41.18...   \n",
       "2  [0.0, 0.0, 0.0, 0.0, 60.74887466430664, 270.22...   \n",
       "3  [0.0, 0.0, 0.0, 0.0, 24.30813217163086, 70.529...   \n",
       "4  [0.0, 0.0, 0.0, 0.0, 56.3435173034668, 137.665...   \n",
       "\n",
       "                                             Gen_eta  \\\n",
       "0  [29256.0, -29256.0, 22786.3359375, -24395.5878...   \n",
       "1  [29256.0, -29256.0, 22997.68359375, -22884.091...   \n",
       "2  [29256.0, -29256.0, 23656.546875, -22896.58593...   \n",
       "3  [29256.0, -29256.0, 23128.0703125, -22842.5078...   \n",
       "4  [29256.0, -29256.0, 22933.185546875, -23353.98...   \n",
       "\n",
       "                                             Gen_phi  \\\n",
       "0  [0.0, 0.0, 0.0, 0.0, 2.160212993621826, -2.290...   \n",
       "1  [0.0, 0.0, 0.0, 0.0, 0.13389289379119873, -0.6...   \n",
       "2  [0.0, 0.0, 0.0, 0.0, -0.5050231218338013, 1.64...   \n",
       "3  [0.0, 0.0, 0.0, 0.0, 0.06516370177268982, 2.84...   \n",
       "4  [0.0, 0.0, 0.0, 0.0, -1.403946876525879, -2.29...   \n",
       "\n",
       "                                               Gen_p  \\\n",
       "0  [6500.0, 6500.0, 30.3359375, 1639.587890625, 4...   \n",
       "1  [6500.0, 6500.0, 241.68359375, 128.091796875, ...   \n",
       "2  [6500.0, 6500.0, 900.546875, 140.5859375, 65.1...   \n",
       "3  [6500.0, 6500.0, 372.0703125, 86.5078125, 124....   \n",
       "4  [6500.0, 6500.0, 177.185546875, 597.984375, 35...   \n",
       "\n",
       "                                          Gen_energy  \\\n",
       "0  [6500.000067719272, 6500.000067719272, 30.3359...   \n",
       "1  [6500.000067719272, 6500.000067719272, 241.683...   \n",
       "2  [6500.000067719272, 6500.000067719272, 900.546...   \n",
       "3  [6500.000067719272, 6500.000067719272, 372.070...   \n",
       "4  [6500.000067719272, 6500.000067719272, 177.185...   \n",
       "\n",
       "                                          Gen_charge  \\\n",
       "0  [1.0, 1.0, 0.0, 0.0, 0.0, 0.0, -1.0, 0.0, 0.0,...   \n",
       "1  [1.0, 1.0, 0.0, 0.0, 0.0, 0.0, -1.0, 0.0, 0.0,...   \n",
       "2  [1.0, 1.0, 0.0, 0.0, 0.0, 0.0, -1.0, 0.0, 0.0,...   \n",
       "3  [1.0, 1.0, 0.0, 0.0, 0.0, 0.0, -1.0, 0.0, 0.0,...   \n",
       "4  [1.0, 1.0, 0.0, 0.0, 0.0, 0.0, -1.0, 0.0, 0.0,...   \n",
       "\n",
       "                                              Gen_vx  \\\n",
       "0  [0.0, 0.0, 0.10522079467773438, 0.105220794677...   \n",
       "1  [0.0, 0.0, 0.10435939580202103, 0.104359395802...   \n",
       "2  [0.0, 0.0, 0.10467060655355453, 0.104670606553...   \n",
       "3  [0.0, 0.0, 0.10517765581607819, 0.105177655816...   \n",
       "4  [0.0, 0.0, 0.10499045252799988, 0.104990452527...   \n",
       "\n",
       "                                              Gen_vy  \\\n",
       "0  [0.0, 0.0, 0.1687268167734146, 0.1687268167734...   \n",
       "1  [0.0, 0.0, 0.16953521966934204, 0.169535219669...   \n",
       "2  [0.0, 0.0, 0.16912251710891724, 0.169122517108...   \n",
       "3  [0.0, 0.0, 0.16616767644882202, 0.166167676448...   \n",
       "4  [0.0, 0.0, 0.1677093505859375, 0.1677093505859...   \n",
       "\n",
       "                                              Gen_vz  \\\n",
       "0  [0.0, 0.0, -13.759533882141113, -13.7595338821...   \n",
       "1  [0.0, 0.0, -0.9217044711112976, -0.92170447111...   \n",
       "2  [0.0, 0.0, -5.6016340255737305, -5.60163402557...   \n",
       "3  [0.0, 0.0, -3.8599727153778076, -3.85997271537...   \n",
       "4  [0.0, 0.0, 4.907552719116211, 4.90755271911621...   \n",
       "\n",
       "                                          Gen_status  ... Met_xyCorrY  \\\n",
       "0  [4.0, 4.0, 21.0, 21.0, 23.0, 22.0, 22.0, 41.0,...  ...   -0.685861   \n",
       "1  [4.0, 4.0, 21.0, 21.0, 23.0, 22.0, 22.0, 42.0,...  ...   -1.175968   \n",
       "2  [4.0, 4.0, 21.0, 21.0, 23.0, 22.0, 22.0, 41.0,...  ...   -0.850891   \n",
       "3  [4.0, 4.0, 21.0, 21.0, 23.0, 22.0, 22.0, 41.0,...  ...   -0.736927   \n",
       "4  [4.0, 4.0, 21.0, 21.0, 23.0, 22.0, 22.0, 44.0,...  ...   -1.057355   \n",
       "\n",
       "  Met_type1PF_uncorrPx Met_type1PF_uncorrPy Met_type1PF_uncorrPt  \\\n",
       "0           -20.878354           -38.614645            43.897568   \n",
       "1           -38.604541            28.169945            47.789711   \n",
       "2           -38.590693           123.467511           129.357910   \n",
       "3            40.451099           -42.437467            58.627895   \n",
       "4           -29.239733           -88.317443            93.031891   \n",
       "\n",
       "  Met_type1PF_uncorrPhi Met_type1PF_shiftedPtUp Met_type1PF_shiftedPtDown  \\\n",
       "0             -2.066460               52.435719                 49.454834   \n",
       "1              2.511207               41.208508                 43.899719   \n",
       "2              1.873734              146.348312                141.209946   \n",
       "3             -0.809358               73.711586                 69.418488   \n",
       "4             -1.890513               91.811768                 95.199142   \n",
       "\n",
       "   EVENT_event  Class  xsecwt  \n",
       "0        10653     tW       1  \n",
       "1        10645     tW       1  \n",
       "2        10647     tW       1  \n",
       "3        10646     tW       1  \n",
       "4        10657     tW       1  \n",
       "\n",
       "[5 rows x 338 columns]"
      ]
     },
     "execution_count": 5,
     "metadata": {},
     "output_type": "execute_result"
    }
   ],
   "source": [
    "df.head()"
   ]
  },
  {
   "cell_type": "markdown",
   "id": "efa6abe2",
   "metadata": {},
   "source": [
    "## We need numpy\n"
   ]
  },
  {
   "cell_type": "code",
   "execution_count": 6,
   "id": "b4e0e0e8",
   "metadata": {},
   "outputs": [],
   "source": [
    "import numpy as np"
   ]
  },
  {
   "cell_type": "markdown",
   "id": "095a699d",
   "metadata": {},
   "source": [
    "## A custom function for binning"
   ]
  },
  {
   "cell_type": "code",
   "execution_count": 7,
   "id": "cddce8d4",
   "metadata": {},
   "outputs": [],
   "source": [
    "def MyBins(lower,upper,step): return np.arange(lower,upper+step,step).tolist()"
   ]
  },
  {
   "cell_type": "code",
   "execution_count": 8,
   "id": "203aa7a8",
   "metadata": {},
   "outputs": [
    {
     "name": "stdout",
     "output_type": "stream",
     "text": [
      "[0, 1, 2, 3, 4, 5, 6, 7, 8, 9, 10]\n"
     ]
    }
   ],
   "source": [
    "Check=MyBins(0,10,1)\n",
    "print(Check)"
   ]
  },
  {
   "cell_type": "markdown",
   "id": "517c281a",
   "metadata": {},
   "source": [
    "## Define addtional variables that are not in the tree"
   ]
  },
  {
   "cell_type": "code",
   "execution_count": 9,
   "id": "6a996864",
   "metadata": {},
   "outputs": [],
   "source": [
    "df['NMuons'] = df['Muon_pt'].str.len()\n",
    "df['NJets'] = df['Jet_pt'].str.len()\n"
   ]
  },
  {
   "cell_type": "markdown",
   "id": "b9cc4e4b",
   "metadata": {},
   "source": [
    "## Plotting NMuons and Njets"
   ]
  },
  {
   "cell_type": "code",
   "execution_count": 10,
   "id": "3ba02a90",
   "metadata": {},
   "outputs": [
    {
     "data": {
      "text/plain": [
       "<AxesSubplot:>"
      ]
     },
     "execution_count": 10,
     "metadata": {},
     "output_type": "execute_result"
    },
    {
     "data": {
      "image/png": "[encoded data removed]",
      "text/plain": [
       "<Figure size 432x288 with 1 Axes>"
      ]
     },
     "metadata": {
      "needs_background": "light"
     },
     "output_type": "display_data"
    }
   ],
   "source": [
    "df['NMuons'].hist(bins=MyBins(-0.5,10.5,1),histtype='step')"
   ]
  },
  {
   "cell_type": "code",
   "execution_count": 11,
   "id": "2460a415",
   "metadata": {},
   "outputs": [
    {
     "data": {
      "text/plain": [
       "<AxesSubplot:>"
      ]
     },
     "execution_count": 11,
     "metadata": {},
     "output_type": "execute_result"
    },
    {
     "data": {
      "image/png": "[encoded data removed]",
      "text/plain": [
       "<Figure size 432x288 with 1 Axes>"
      ]
     },
     "metadata": {
      "needs_background": "light"
     },
     "output_type": "display_data"
    }
   ],
   "source": [
    "df['NJets'].hist(bins=MyBins(-0.5,50.5,1),histtype='step')"
   ]
  },
  {
   "cell_type": "markdown",
   "id": "479e88ec",
   "metadata": {},
   "source": [
    "## How to split branches ??\n",
    "\n",
    "Example: *Gen_pdg_id* branch of variable length\n",
    "\n",
    "If we want to query first, second or last element, we can first split it! \n"
   ]
  },
  {
   "cell_type": "code",
   "execution_count": 12,
   "id": "491b130b",
   "metadata": {},
   "outputs": [
    {
     "data": {
      "text/html": [
       "<div>\n",
       "<style scoped>\n",
       "    .dataframe tbody tr th:only-of-type {\n",
       "        vertical-align: middle;\n",
       "    }\n",
       "\n",
       "    .dataframe tbody tr th {\n",
       "        vertical-align: top;\n",
       "    }\n",
       "\n",
       "    .dataframe thead th {\n",
       "        text-align: right;\n",
       "    }\n",
       "</style>\n",
       "<table border=\"1\" class=\"dataframe\">\n",
       "  <thead>\n",
       "    <tr style=\"text-align: right;\">\n",
       "      <th></th>\n",
       "      <th>Gen_pdg_id1</th>\n",
       "      <th>Gen_pdg_id2</th>\n",
       "      <th>Gen_pdg_id3</th>\n",
       "      <th>Gen_pdg_id4</th>\n",
       "      <th>Gen_pdg_id5</th>\n",
       "      <th>Gen_pdg_id6</th>\n",
       "      <th>Gen_pdg_id7</th>\n",
       "      <th>Gen_pdg_id8</th>\n",
       "      <th>Gen_pdg_id9</th>\n",
       "      <th>Gen_pdg_id10</th>\n",
       "      <th>...</th>\n",
       "      <th>Gen_pdg_id258</th>\n",
       "      <th>Gen_pdg_id259</th>\n",
       "      <th>Gen_pdg_id260</th>\n",
       "      <th>Gen_pdg_id261</th>\n",
       "      <th>Gen_pdg_id262</th>\n",
       "      <th>Gen_pdg_id263</th>\n",
       "      <th>Gen_pdg_id264</th>\n",
       "      <th>Gen_pdg_id265</th>\n",
       "      <th>Gen_pdg_id266</th>\n",
       "      <th>Gen_pdg_id267</th>\n",
       "    </tr>\n",
       "  </thead>\n",
       "  <tbody>\n",
       "    <tr>\n",
       "      <th>0</th>\n",
       "      <td>2212.0</td>\n",
       "      <td>2212.0</td>\n",
       "      <td>21.0</td>\n",
       "      <td>21.0</td>\n",
       "      <td>-5.0</td>\n",
       "      <td>6.0</td>\n",
       "      <td>-24.0</td>\n",
       "      <td>-4.0</td>\n",
       "      <td>-5.0</td>\n",
       "      <td>6.0</td>\n",
       "      <td>...</td>\n",
       "      <td>NaN</td>\n",
       "      <td>NaN</td>\n",
       "      <td>NaN</td>\n",
       "      <td>NaN</td>\n",
       "      <td>NaN</td>\n",
       "      <td>NaN</td>\n",
       "      <td>NaN</td>\n",
       "      <td>NaN</td>\n",
       "      <td>NaN</td>\n",
       "      <td>NaN</td>\n",
       "    </tr>\n",
       "    <tr>\n",
       "      <th>1</th>\n",
       "      <td>2212.0</td>\n",
       "      <td>2212.0</td>\n",
       "      <td>21.0</td>\n",
       "      <td>5.0</td>\n",
       "      <td>21.0</td>\n",
       "      <td>6.0</td>\n",
       "      <td>-24.0</td>\n",
       "      <td>5.0</td>\n",
       "      <td>6.0</td>\n",
       "      <td>-24.0</td>\n",
       "      <td>...</td>\n",
       "      <td>NaN</td>\n",
       "      <td>NaN</td>\n",
       "      <td>NaN</td>\n",
       "      <td>NaN</td>\n",
       "      <td>NaN</td>\n",
       "      <td>NaN</td>\n",
       "      <td>NaN</td>\n",
       "      <td>NaN</td>\n",
       "      <td>NaN</td>\n",
       "      <td>NaN</td>\n",
       "    </tr>\n",
       "    <tr>\n",
       "      <th>2</th>\n",
       "      <td>2212.0</td>\n",
       "      <td>2212.0</td>\n",
       "      <td>5.0</td>\n",
       "      <td>21.0</td>\n",
       "      <td>21.0</td>\n",
       "      <td>6.0</td>\n",
       "      <td>-24.0</td>\n",
       "      <td>5.0</td>\n",
       "      <td>6.0</td>\n",
       "      <td>-24.0</td>\n",
       "      <td>...</td>\n",
       "      <td>NaN</td>\n",
       "      <td>NaN</td>\n",
       "      <td>NaN</td>\n",
       "      <td>NaN</td>\n",
       "      <td>NaN</td>\n",
       "      <td>NaN</td>\n",
       "      <td>NaN</td>\n",
       "      <td>NaN</td>\n",
       "      <td>NaN</td>\n",
       "      <td>NaN</td>\n",
       "    </tr>\n",
       "    <tr>\n",
       "      <th>3</th>\n",
       "      <td>2212.0</td>\n",
       "      <td>2212.0</td>\n",
       "      <td>21.0</td>\n",
       "      <td>5.0</td>\n",
       "      <td>21.0</td>\n",
       "      <td>6.0</td>\n",
       "      <td>-24.0</td>\n",
       "      <td>5.0</td>\n",
       "      <td>6.0</td>\n",
       "      <td>-24.0</td>\n",
       "      <td>...</td>\n",
       "      <td>NaN</td>\n",
       "      <td>NaN</td>\n",
       "      <td>NaN</td>\n",
       "      <td>NaN</td>\n",
       "      <td>NaN</td>\n",
       "      <td>NaN</td>\n",
       "      <td>NaN</td>\n",
       "      <td>NaN</td>\n",
       "      <td>NaN</td>\n",
       "      <td>NaN</td>\n",
       "    </tr>\n",
       "    <tr>\n",
       "      <th>4</th>\n",
       "      <td>2212.0</td>\n",
       "      <td>2212.0</td>\n",
       "      <td>21.0</td>\n",
       "      <td>21.0</td>\n",
       "      <td>-5.0</td>\n",
       "      <td>6.0</td>\n",
       "      <td>-24.0</td>\n",
       "      <td>-5.0</td>\n",
       "      <td>6.0</td>\n",
       "      <td>-24.0</td>\n",
       "      <td>...</td>\n",
       "      <td>NaN</td>\n",
       "      <td>NaN</td>\n",
       "      <td>NaN</td>\n",
       "      <td>NaN</td>\n",
       "      <td>NaN</td>\n",
       "      <td>NaN</td>\n",
       "      <td>NaN</td>\n",
       "      <td>NaN</td>\n",
       "      <td>NaN</td>\n",
       "      <td>NaN</td>\n",
       "    </tr>\n",
       "  </tbody>\n",
       "</table>\n",
       "<p>5 rows × 267 columns</p>\n",
       "</div>"
      ],
      "text/plain": [
       "   Gen_pdg_id1  Gen_pdg_id2  Gen_pdg_id3  Gen_pdg_id4  Gen_pdg_id5  \\\n",
       "0       2212.0       2212.0         21.0         21.0         -5.0   \n",
       "1       2212.0       2212.0         21.0          5.0         21.0   \n",
       "2       2212.0       2212.0          5.0         21.0         21.0   \n",
       "3       2212.0       2212.0         21.0          5.0         21.0   \n",
       "4       2212.0       2212.0         21.0         21.0         -5.0   \n",
       "\n",
       "   Gen_pdg_id6  Gen_pdg_id7  Gen_pdg_id8  Gen_pdg_id9  Gen_pdg_id10  ...  \\\n",
       "0          6.0        -24.0         -4.0         -5.0           6.0  ...   \n",
       "1          6.0        -24.0          5.0          6.0         -24.0  ...   \n",
       "2          6.0        -24.0          5.0          6.0         -24.0  ...   \n",
       "3          6.0        -24.0          5.0          6.0         -24.0  ...   \n",
       "4          6.0        -24.0         -5.0          6.0         -24.0  ...   \n",
       "\n",
       "   Gen_pdg_id258  Gen_pdg_id259  Gen_pdg_id260  Gen_pdg_id261  Gen_pdg_id262  \\\n",
       "0            NaN            NaN            NaN            NaN            NaN   \n",
       "1            NaN            NaN            NaN            NaN            NaN   \n",
       "2            NaN            NaN            NaN            NaN            NaN   \n",
       "3            NaN            NaN            NaN            NaN            NaN   \n",
       "4            NaN            NaN            NaN            NaN            NaN   \n",
       "\n",
       "   Gen_pdg_id263  Gen_pdg_id264  Gen_pdg_id265  Gen_pdg_id266  Gen_pdg_id267  \n",
       "0            NaN            NaN            NaN            NaN            NaN  \n",
       "1            NaN            NaN            NaN            NaN            NaN  \n",
       "2            NaN            NaN            NaN            NaN            NaN  \n",
       "3            NaN            NaN            NaN            NaN            NaN  \n",
       "4            NaN            NaN            NaN            NaN            NaN  \n",
       "\n",
       "[5 rows x 267 columns]"
      ]
     },
     "execution_count": 12,
     "metadata": {},
     "output_type": "execute_result"
    }
   ],
   "source": [
    "dfk = pd.DataFrame([pd.Series(x) for x in df.Gen_pdg_id])\n",
    "dfk.columns = ['Gen_pdg_id{}'.format(x+1) for x in dfk.columns]\n",
    "dfk.head()"
   ]
  },
  {
   "cell_type": "markdown",
   "id": "fbf3ba17",
   "metadata": {},
   "source": [
    "## I am going to start modifyig the data-frame, so just preserving copy"
   ]
  },
  {
   "cell_type": "code",
   "execution_count": 13,
   "id": "fa31b766",
   "metadata": {},
   "outputs": [],
   "source": [
    "dfh=df.copy()"
   ]
  },
  {
   "cell_type": "markdown",
   "id": "df07ee74",
   "metadata": {},
   "source": [
    "## A basic selection\n",
    "\n",
    "### one muon with Muon_pt > 26. && abs(Muon_eta < 2.1) \n",
    "\n",
    "### three jets with Jet_pt > 30. && abs(Jet_eta < 2.4)\n",
    "#### one of which passes Jet_pfCombinedInclusiveSecondaryVertexV2BJetTags > 0.627"
   ]
  },
  {
   "cell_type": "code",
   "execution_count": 14,
   "id": "396dc803",
   "metadata": {},
   "outputs": [],
   "source": [
    "df[\"MuonBit\"]=0\n",
    "df[\"JetBit\"]=0\n",
    "df[\"allpass\"]=0\n",
    "\n",
    "for ind, event in df.iterrows():\n",
    "        \n",
    "    for Muonpt, Muoneta in zip(event.Muon_pt,event.Muon_eta):\n",
    "        if (Muonpt>26) and (abs(Muoneta)<2.1):\n",
    "            df.loc[ind,'MuonBit']=1\n",
    "            break\n",
    "        \n",
    "    jetpassed=0\n",
    "    jetpfpassed=0\n",
    "    for Jetpt, Jeteta,JetpfCombined in zip(event.Jet_pt,event.Jet_eta,\n",
    "                                           event.Jet_pfCombinedInclusiveSecondaryVertexV2BJetTags):\n",
    "        \n",
    "        if (Jetpt>30) and (abs(Jeteta)<2.4):\n",
    "            jetpassed=jetpassed+1\n",
    "            \n",
    "            if JetpfCombined>0.627:\n",
    "                jetpfpassed=jetpfpassed+1\n",
    "            if jetpassed>2 and jetpfpassed>0:\n",
    "                df.loc[ind,'JetBit']=1\n",
    "                break\n",
    "                \n",
    "    if (df.loc[ind,'MuonBit']==1) and (df.loc[ind,'JetBit']==1):\n",
    "        df.loc[ind,'allpass']=1\n",
    "        continue "
   ]
  },
  {
   "cell_type": "code",
   "execution_count": 15,
   "id": "0bbe524e",
   "metadata": {},
   "outputs": [
    {
     "name": "stdout",
     "output_type": "stream",
     "text": [
      "Total events selected 42191\n"
     ]
    }
   ],
   "source": [
    "print(f'Total events selected {len(df.query(\"allpass==1\"))}')"
   ]
  },
  {
   "cell_type": "code",
   "execution_count": 16,
   "id": "549f4e35",
   "metadata": {},
   "outputs": [
    {
     "name": "stdout",
     "output_type": "stream",
     "text": [
      "Total events selected 42191\n"
     ]
    }
   ],
   "source": [
    "df.query(\"allpass==1\",inplace=True) ## df is now modified\n",
    "print(f'Total events selected {len(df)}')"
   ]
  },
  {
   "cell_type": "markdown",
   "id": "a8b67bf0",
   "metadata": {},
   "source": [
    "## Need matplotlib for plotting"
   ]
  },
  {
   "cell_type": "code",
   "execution_count": 17,
   "id": "d74c30a1",
   "metadata": {},
   "outputs": [],
   "source": [
    "import matplotlib.pyplot as plt     "
   ]
  },
  {
   "cell_type": "code",
   "execution_count": 18,
   "id": "bc9ef8d8",
   "metadata": {},
   "outputs": [
    {
     "data": {
      "text/plain": [
       "<AxesSubplot:>"
      ]
     },
     "execution_count": 18,
     "metadata": {},
     "output_type": "execute_result"
    },
    {
     "data": {
      "image/png": "[encoded data removed]",
      "text/plain": [
       "<Figure size 432x288 with 2 Axes>"
      ]
     },
     "metadata": {
      "needs_background": "light"
     },
     "output_type": "display_data"
    }
   ],
   "source": [
    "fig,ax=plt.subplots(1,2)\n",
    "df['NMuons'].hist(bins=MyBins(-0.5,10.5,1),histtype='step',ax=ax[0])\n",
    "df['NJets'].hist(bins=MyBins(-0.5,50.5,1),histtype='step',ax=ax[1])"
   ]
  },
  {
   "cell_type": "markdown",
   "id": "f7e9dc78",
   "metadata": {},
   "source": [
    "## A function to split a variable length branch"
   ]
  },
  {
   "cell_type": "code",
   "execution_count": 19,
   "id": "19f32f53",
   "metadata": {},
   "outputs": [],
   "source": [
    "def split(var,df):\n",
    "    df['k']=1\n",
    "    dfM = pd.DataFrame([pd.Series(x) for x in df[var]])\n",
    "    dfM.columns = [f'{var}{format(x)}' for x in dfM.columns]\n",
    "    df=pd.concat([df.reset_index(drop=True), dfM.reset_index(drop=True)], axis=1)\n",
    "    return df"
   ]
  },
  {
   "cell_type": "markdown",
   "id": "61009a84",
   "metadata": {},
   "source": [
    "## Splitting Muon_pt"
   ]
  },
  {
   "cell_type": "code",
   "execution_count": 20,
   "id": "0496d74e",
   "metadata": {},
   "outputs": [],
   "source": [
    "df=split('Muon_pt',df)"
   ]
  },
  {
   "cell_type": "code",
   "execution_count": 21,
   "id": "19d3c3b0",
   "metadata": {},
   "outputs": [
    {
     "data": {
      "text/plain": [
       "0         60.909378\n",
       "1         56.492050\n",
       "2         46.167675\n",
       "3        158.422348\n",
       "4        102.181343\n",
       "            ...    \n",
       "42186    164.694336\n",
       "42187     50.735451\n",
       "42188    118.503510\n",
       "42189     27.775686\n",
       "42190     42.580822\n",
       "Name: Muon_pt0, Length: 42191, dtype: float64"
      ]
     },
     "execution_count": 21,
     "metadata": {},
     "output_type": "execute_result"
    }
   ],
   "source": [
    "df['Muon_pt0']"
   ]
  },
  {
   "cell_type": "code",
   "execution_count": 22,
   "id": "9c0f3b2d",
   "metadata": {},
   "outputs": [
    {
     "data": {
      "image/png": "[encoded data removed]",
      "text/plain": [
       "<Figure size 1800x360 with 3 Axes>"
      ]
     },
     "metadata": {
      "needs_background": "light"
     },
     "output_type": "display_data"
    }
   ],
   "source": [
    "fig, axes = plt.subplots(1, 3, figsize=(25, 5))\n",
    "for i in [0,1,2]:\n",
    "    df['Muon_pt'+str(i)].hist(bins=MyBins(0,200,2),ax=axes[i],histtype='step',lw=3,label=f'Muon {i+1}')\n",
    "    axes[i].legend()"
   ]
  },
  {
   "cell_type": "markdown",
   "id": "b005a3ed",
   "metadata": {},
   "source": [
    "## Printing all the Gen branches"
   ]
  },
  {
   "cell_type": "code",
   "execution_count": 23,
   "id": "e17a37b7",
   "metadata": {},
   "outputs": [
    {
     "name": "stdout",
     "output_type": "stream",
     "text": [
      "Gen_pt\n",
      "Gen_eta\n",
      "Gen_phi\n",
      "Gen_p\n",
      "Gen_energy\n",
      "Gen_charge\n",
      "Gen_vx\n",
      "Gen_vy\n",
      "Gen_vz\n",
      "Gen_status\n",
      "Gen_pdg_id\n",
      "Gen_motherpdg_id\n",
      "Gen_numDaught\n",
      "Gen_numMother\n",
      "Gen_BmotherIndex\n",
      "Gen_BmotherIndices\n",
      "Gen_BdaughtIndices\n",
      "Gen_type1PF_Met\n",
      "Gen_type1PF_Metpx\n",
      "Gen_type1PF_Metpy\n",
      "Gen_type1PF_Metpz\n",
      "Gen_type1PF_Meteta\n",
      "Gen_type1PF_Metphi\n",
      "Gen_type1PF_Meten\n"
     ]
    }
   ],
   "source": [
    "for col in df.columns:\n",
    "    if 'Gen' in col:\n",
    "        print(col)"
   ]
  },
  {
   "cell_type": "markdown",
   "id": "cbabccf3",
   "metadata": {},
   "source": [
    "## Count the number of gen particles in the record "
   ]
  },
  {
   "cell_type": "code",
   "execution_count": 24,
   "id": "dee7a3ec",
   "metadata": {},
   "outputs": [],
   "source": [
    "df['NGen'] = df['Gen_pt'].str.len()"
   ]
  },
  {
   "cell_type": "code",
   "execution_count": 25,
   "id": "e350fd16",
   "metadata": {},
   "outputs": [
    {
     "data": {
      "text/plain": [
       "<AxesSubplot:>"
      ]
     },
     "execution_count": 25,
     "metadata": {},
     "output_type": "execute_result"
    },
    {
     "data": {
      "image/png": "[encoded data removed]",
      "text/plain": [
       "<Figure size 432x288 with 1 Axes>"
      ]
     },
     "metadata": {
      "needs_background": "light"
     },
     "output_type": "display_data"
    }
   ],
   "source": [
    "df['NGen'].hist()"
   ]
  },
  {
   "cell_type": "markdown",
   "id": "f8e79901",
   "metadata": {},
   "source": [
    "## Finding the gen top and storing it's pt and eta"
   ]
  },
  {
   "cell_type": "code",
   "execution_count": 26,
   "id": "c87614b4",
   "metadata": {},
   "outputs": [],
   "source": [
    "####Finding the gen Top in tW\n",
    "df['GenToppt']=-999\n",
    "df['GenTopeta']=-999\n",
    "\n",
    "for ind, row in df.iterrows():\n",
    "    for partind, part in enumerate(row.Gen_pdg_id):\n",
    "        if abs(row.Gen_pdg_id[partind])==6 and row.Gen_numDaught[partind]==2:\n",
    "            #print(f'Found top at {partind} with pT {row.Gen_pt[partind]} GeV and mother ID {row.Gen_motherpdg_id[partind]} with {row.Gen_numDaught[partind]} daughters')\n",
    "            df.loc[ind,'GenToppt'] = row.Gen_pt[partind]\n",
    "            df.loc[ind,'GenTopeta'] = row.Gen_eta[partind] \n",
    "            \n",
    " "
   ]
  },
  {
   "cell_type": "code",
   "execution_count": 27,
   "id": "6078f5bf",
   "metadata": {},
   "outputs": [
    {
     "data": {
      "text/plain": [
       "<AxesSubplot:>"
      ]
     },
     "execution_count": 27,
     "metadata": {},
     "output_type": "execute_result"
    },
    {
     "data": {
      "image/png": "[encoded data removed]",
      "text/plain": [
       "<Figure size 432x288 with 1 Axes>"
      ]
     },
     "metadata": {
      "needs_background": "light"
     },
     "output_type": "display_data"
    }
   ],
   "source": [
    "df['GenToppt'].hist(bins=[i for i in range(0,600,10)],ls='-',histtype='step')"
   ]
  },
  {
   "cell_type": "code",
   "execution_count": 28,
   "id": "4a6d0201",
   "metadata": {},
   "outputs": [
    {
     "data": {
      "text/plain": [
       "<AxesSubplot:>"
      ]
     },
     "execution_count": 28,
     "metadata": {},
     "output_type": "execute_result"
    },
    {
     "data": {
      "image/png": "[encoded data removed]",
      "text/plain": [
       "<Figure size 432x288 with 1 Axes>"
      ]
     },
     "metadata": {
      "needs_background": "light"
     },
     "output_type": "display_data"
    }
   ],
   "source": [
    "df['GenTopeta'].hist(bins=[-3.0,-2.5,-1.5,0,1.5,2.0,2.5],ls='-',histtype='step')"
   ]
  },
  {
   "attachments": {
    "image.png": {
     "image/png": "[encoded data removed]"
    }
   },
   "cell_type": "markdown",
   "id": "b25ae12b",
   "metadata": {},
   "source": [
    "## Regression\n",
    "\n",
    "![image.png](attachment:image.png)\n",
    "\n",
    "## Pre-processing for the regression"
   ]
  },
  {
   "cell_type": "code",
   "execution_count": 29,
   "id": "06b49c16",
   "metadata": {},
   "outputs": [],
   "source": [
    "df=split('Jet_pt',df)\n",
    "df=split('Muon_eta',df)\n",
    "df=split('Muon_phi',df)\n",
    "df=split('Jet_eta',df)\n",
    "df=split('Jet_phi',df)\n"
   ]
  },
  {
   "cell_type": "markdown",
   "id": "f506f857",
   "metadata": {},
   "source": [
    "## Preparing the regression data frame"
   ]
  },
  {
   "cell_type": "code",
   "execution_count": 30,
   "id": "859df3a1",
   "metadata": {},
   "outputs": [],
   "source": [
    "dfr=df[[\"Muon_pt0\",\"Muon_eta0\",\"Muon_phi0\",\n",
    "        \"Jet_pt0\",\"Jet_eta0\",\"Jet_phi0\",\n",
    "        \"Jet_pt1\",\"Jet_eta1\",\"Jet_phi1\",\n",
    "        \"Jet_pt2\",\"Jet_eta2\",\"Jet_phi2\",\n",
    "        'GenToppt']]"
   ]
  },
  {
   "cell_type": "code",
   "execution_count": 31,
   "id": "94277e8e",
   "metadata": {},
   "outputs": [
    {
     "data": {
      "text/html": [
       "<div>\n",
       "<style scoped>\n",
       "    .dataframe tbody tr th:only-of-type {\n",
       "        vertical-align: middle;\n",
       "    }\n",
       "\n",
       "    .dataframe tbody tr th {\n",
       "        vertical-align: top;\n",
       "    }\n",
       "\n",
       "    .dataframe thead th {\n",
       "        text-align: right;\n",
       "    }\n",
       "</style>\n",
       "<table border=\"1\" class=\"dataframe\">\n",
       "  <thead>\n",
       "    <tr style=\"text-align: right;\">\n",
       "      <th></th>\n",
       "      <th>Muon_pt0</th>\n",
       "      <th>Muon_eta0</th>\n",
       "      <th>Muon_phi0</th>\n",
       "      <th>Jet_pt0</th>\n",
       "      <th>Jet_eta0</th>\n",
       "      <th>Jet_phi0</th>\n",
       "      <th>Jet_pt1</th>\n",
       "      <th>Jet_eta1</th>\n",
       "      <th>Jet_phi1</th>\n",
       "      <th>Jet_pt2</th>\n",
       "      <th>Jet_eta2</th>\n",
       "      <th>Jet_phi2</th>\n",
       "      <th>GenToppt</th>\n",
       "    </tr>\n",
       "  </thead>\n",
       "  <tbody>\n",
       "    <tr>\n",
       "      <th>0</th>\n",
       "      <td>60.909378</td>\n",
       "      <td>0.756116</td>\n",
       "      <td>-2.225853</td>\n",
       "      <td>66.413002</td>\n",
       "      <td>0.372311</td>\n",
       "      <td>0.277309</td>\n",
       "      <td>63.531914</td>\n",
       "      <td>0.755193</td>\n",
       "      <td>-2.224941</td>\n",
       "      <td>38.463036</td>\n",
       "      <td>-0.411286</td>\n",
       "      <td>0.109514</td>\n",
       "      <td>54.442272</td>\n",
       "    </tr>\n",
       "    <tr>\n",
       "      <th>1</th>\n",
       "      <td>56.492050</td>\n",
       "      <td>0.659582</td>\n",
       "      <td>1.840974</td>\n",
       "      <td>167.610062</td>\n",
       "      <td>1.001974</td>\n",
       "      <td>-1.711470</td>\n",
       "      <td>60.285843</td>\n",
       "      <td>0.657585</td>\n",
       "      <td>1.837036</td>\n",
       "      <td>48.240726</td>\n",
       "      <td>-0.286107</td>\n",
       "      <td>-0.428892</td>\n",
       "      <td>271.609070</td>\n",
       "    </tr>\n",
       "    <tr>\n",
       "      <th>2</th>\n",
       "      <td>46.167675</td>\n",
       "      <td>0.139499</td>\n",
       "      <td>2.104469</td>\n",
       "      <td>103.817795</td>\n",
       "      <td>0.713723</td>\n",
       "      <td>-0.766980</td>\n",
       "      <td>70.983833</td>\n",
       "      <td>0.499549</td>\n",
       "      <td>-3.098937</td>\n",
       "      <td>49.509895</td>\n",
       "      <td>0.140766</td>\n",
       "      <td>2.107204</td>\n",
       "      <td>81.531662</td>\n",
       "    </tr>\n",
       "    <tr>\n",
       "      <th>3</th>\n",
       "      <td>158.422348</td>\n",
       "      <td>1.856111</td>\n",
       "      <td>-1.290064</td>\n",
       "      <td>183.716248</td>\n",
       "      <td>1.854433</td>\n",
       "      <td>-1.291151</td>\n",
       "      <td>127.982094</td>\n",
       "      <td>0.411666</td>\n",
       "      <td>2.106622</td>\n",
       "      <td>64.024826</td>\n",
       "      <td>1.074814</td>\n",
       "      <td>1.372956</td>\n",
       "      <td>145.980896</td>\n",
       "    </tr>\n",
       "    <tr>\n",
       "      <th>4</th>\n",
       "      <td>102.181343</td>\n",
       "      <td>-1.689755</td>\n",
       "      <td>-1.773635</td>\n",
       "      <td>124.617867</td>\n",
       "      <td>-1.679708</td>\n",
       "      <td>-1.779317</td>\n",
       "      <td>117.852951</td>\n",
       "      <td>-0.591841</td>\n",
       "      <td>2.399061</td>\n",
       "      <td>45.485611</td>\n",
       "      <td>-0.321394</td>\n",
       "      <td>0.702558</td>\n",
       "      <td>123.150360</td>\n",
       "    </tr>\n",
       "  </tbody>\n",
       "</table>\n",
       "</div>"
      ],
      "text/plain": [
       "     Muon_pt0  Muon_eta0  Muon_phi0     Jet_pt0  Jet_eta0  Jet_phi0  \\\n",
       "0   60.909378   0.756116  -2.225853   66.413002  0.372311  0.277309   \n",
       "1   56.492050   0.659582   1.840974  167.610062  1.001974 -1.711470   \n",
       "2   46.167675   0.139499   2.104469  103.817795  0.713723 -0.766980   \n",
       "3  158.422348   1.856111  -1.290064  183.716248  1.854433 -1.291151   \n",
       "4  102.181343  -1.689755  -1.773635  124.617867 -1.679708 -1.779317   \n",
       "\n",
       "      Jet_pt1  Jet_eta1  Jet_phi1    Jet_pt2  Jet_eta2  Jet_phi2    GenToppt  \n",
       "0   63.531914  0.755193 -2.224941  38.463036 -0.411286  0.109514   54.442272  \n",
       "1   60.285843  0.657585  1.837036  48.240726 -0.286107 -0.428892  271.609070  \n",
       "2   70.983833  0.499549 -3.098937  49.509895  0.140766  2.107204   81.531662  \n",
       "3  127.982094  0.411666  2.106622  64.024826  1.074814  1.372956  145.980896  \n",
       "4  117.852951 -0.591841  2.399061  45.485611 -0.321394  0.702558  123.150360  "
      ]
     },
     "execution_count": 31,
     "metadata": {},
     "output_type": "execute_result"
    }
   ],
   "source": [
    "dfr.head()"
   ]
  },
  {
   "cell_type": "markdown",
   "id": "c5f6ec65",
   "metadata": {},
   "source": []
  },
  {
   "cell_type": "code",
   "execution_count": null,
   "id": "4a9495dc",
   "metadata": {},
   "outputs": [],
   "source": []
  },
  {
   "cell_type": "markdown",
   "id": "30c1e1fa",
   "metadata": {},
   "source": [
    "## Split the dataframe into training and testing"
   ]
  },
  {
   "cell_type": "code",
   "execution_count": 32,
   "id": "36a635bf",
   "metadata": {},
   "outputs": [],
   "source": [
    "index = dfr.index\n",
    "\n",
    "from sklearn.model_selection import train_test_split\n",
    "\n",
    "TrainIndices=[]\n",
    "TestIndices=[]\n",
    "TrainIndices, TestIndices = train_test_split(index.values.tolist(), test_size=0.2, random_state=42, shuffle=True)"
   ]
  },
  {
   "cell_type": "code",
   "execution_count": 33,
   "id": "fece0421",
   "metadata": {},
   "outputs": [
    {
     "name": "stderr",
     "output_type": "stream",
     "text": [
      "/home/akapoor/miniconda3/envs/py39_tf2.4gpu/lib/python3.9/site-packages/pandas/core/indexing.py:1599: SettingWithCopyWarning: \n",
      "A value is trying to be set on a copy of a slice from a DataFrame.\n",
      "Try using .loc[row_indexer,col_indexer] = value instead\n",
      "\n",
      "See the caveats in the documentation: https://pandas.pydata.org/pandas-docs/stable/user_guide/indexing.html#returning-a-view-versus-a-copy\n",
      "  self.obj[key] = infer_fill_value(value)\n",
      "/home/akapoor/miniconda3/envs/py39_tf2.4gpu/lib/python3.9/site-packages/pandas/core/indexing.py:1720: SettingWithCopyWarning: \n",
      "A value is trying to be set on a copy of a slice from a DataFrame.\n",
      "Try using .loc[row_indexer,col_indexer] = value instead\n",
      "\n",
      "See the caveats in the documentation: https://pandas.pydata.org/pandas-docs/stable/user_guide/indexing.html#returning-a-view-versus-a-copy\n",
      "  self._setitem_single_column(loc, value, pi)\n"
     ]
    }
   ],
   "source": [
    "dfr.loc[TrainIndices,'Dataset'] = \"Train\"\n",
    "dfr.loc[TestIndices,'Dataset'] = \"Test\"\n",
    "\n",
    "dfr.loc[TrainIndices,'TrainDataset'] = 1\n",
    "dfr.loc[TestIndices,'TrainDataset'] = 0"
   ]
  },
  {
   "cell_type": "code",
   "execution_count": 34,
   "id": "a651dbc5",
   "metadata": {},
   "outputs": [
    {
     "name": "stdout",
     "output_type": "stream",
     "text": [
      "(33752, 12)\n"
     ]
    }
   ],
   "source": [
    "X_train=dfr.loc[TrainIndices,[\"Muon_pt0\",\"Muon_eta0\",\"Muon_phi0\",\"Jet_pt0\",\"Jet_eta0\",\"Jet_phi0\",\"Jet_pt1\",\"Jet_eta1\",\"Jet_phi1\",\"Jet_pt2\",\"Jet_eta2\",\"Jet_phi2\"]]\n",
    "X_test=dfr.loc[TestIndices,[\"Muon_pt0\",\"Muon_eta0\",\"Muon_phi0\",\"Jet_pt0\",\"Jet_eta0\",\"Jet_phi0\",\"Jet_pt1\",\"Jet_eta1\",\"Jet_phi1\",\"Jet_pt2\",\"Jet_eta2\",\"Jet_phi2\"]]\n",
    "Y_train=dfr.loc[TrainIndices,'GenToppt']\n",
    "Y_test=dfr.loc[TestIndices,'GenToppt']\n",
    "\n",
    "print(X_train.shape)"
   ]
  },
  {
   "attachments": {
    "image.png": {
     "image/png": "[encoded data removed]"
    }
   },
   "cell_type": "markdown",
   "id": "6ff632dc",
   "metadata": {},
   "source": [
    "![image.png](attachment:image.png)"
   ]
  },
  {
   "cell_type": "markdown",
   "id": "4ae220ff",
   "metadata": {},
   "source": [
    "## We will first use xgboost for regression"
   ]
  },
  {
   "cell_type": "code",
   "execution_count": 35,
   "id": "cfabaad0",
   "metadata": {},
   "outputs": [
    {
     "name": "stdout",
     "output_type": "stream",
     "text": [
      "[18:03:30] WARNING: /workspace/src/objective/regression_obj.cu:152: reg:linear is now deprecated in favor of reg:squarederror.\n"
     ]
    },
    {
     "data": {
      "text/plain": [
       "XGBRegressor()"
      ]
     },
     "execution_count": 35,
     "metadata": {},
     "output_type": "execute_result"
    }
   ],
   "source": [
    "from xgboost import XGBRegressor\n",
    "model = XGBRegressor()\n",
    "model.fit(X_train, Y_train)"
   ]
  },
  {
   "cell_type": "markdown",
   "id": "0701dcdb",
   "metadata": {},
   "source": [
    "## Running pediction"
   ]
  },
  {
   "cell_type": "code",
   "execution_count": 36,
   "id": "4ffcc343",
   "metadata": {},
   "outputs": [],
   "source": [
    "Y_train_pred=model.predict(X_train)\n",
    "\n",
    "Y_test_pred=model.predict(X_test)"
   ]
  },
  {
   "cell_type": "markdown",
   "id": "44f2aa6b",
   "metadata": {},
   "source": [
    "## Storing the prediction is the dataframe"
   ]
  },
  {
   "cell_type": "code",
   "execution_count": 37,
   "id": "f9e9d54d",
   "metadata": {},
   "outputs": [
    {
     "name": "stderr",
     "output_type": "stream",
     "text": [
      "<ipython-input-37-7df034c2fb7c>:1: SettingWithCopyWarning: \n",
      "A value is trying to be set on a copy of a slice from a DataFrame.\n",
      "Try using .loc[row_indexer,col_indexer] = value instead\n",
      "\n",
      "See the caveats in the documentation: https://pandas.pydata.org/pandas-docs/stable/user_guide/indexing.html#returning-a-view-versus-a-copy\n",
      "  dfr['PredToppt']=0\n",
      "/home/akapoor/miniconda3/envs/py39_tf2.4gpu/lib/python3.9/site-packages/pandas/core/indexing.py:1676: SettingWithCopyWarning: \n",
      "A value is trying to be set on a copy of a slice from a DataFrame.\n",
      "Try using .loc[row_indexer,col_indexer] = value instead\n",
      "\n",
      "See the caveats in the documentation: https://pandas.pydata.org/pandas-docs/stable/user_guide/indexing.html#returning-a-view-versus-a-copy\n",
      "  self._setitem_single_column(ilocs[0], value, pi)\n"
     ]
    }
   ],
   "source": [
    "dfr['PredToppt']=0\n",
    "dfr.loc[TrainIndices,'PredToppt']=model.predict(X_train)\n",
    "dfr.loc[TestIndices,'PredToppt']=model.predict(X_test)"
   ]
  },
  {
   "cell_type": "markdown",
   "id": "45d9c79b",
   "metadata": {},
   "source": [
    "## Plotting predicted Top pT for training and testing dataset"
   ]
  },
  {
   "cell_type": "code",
   "execution_count": 38,
   "id": "025bf5ac",
   "metadata": {},
   "outputs": [
    {
     "data": {
      "text/plain": [
       "<AxesSubplot:>"
      ]
     },
     "execution_count": 38,
     "metadata": {},
     "output_type": "execute_result"
    },
    {
     "data": {
      "image/png": "[encoded data removed]",
      "text/plain": [
       "<Figure size 432x288 with 2 Axes>"
      ]
     },
     "metadata": {
      "needs_background": "light"
     },
     "output_type": "display_data"
    }
   ],
   "source": [
    "fig,ax=plt.subplots(1,2)\n",
    "dfr.loc[TrainIndices,'PredToppt'].hist(ax=ax[0],bins=MyBins(0,500,10))\n",
    "dfr.loc[TestIndices,'PredToppt'].hist(ax=ax[1],bins=MyBins(0,500,10))"
   ]
  },
  {
   "cell_type": "markdown",
   "id": "ccd3386d",
   "metadata": {},
   "source": [
    "## Comparing prediction with ground truth"
   ]
  },
  {
   "cell_type": "code",
   "execution_count": 39,
   "id": "01a67275",
   "metadata": {},
   "outputs": [
    {
     "data": {
      "image/png": "[encoded data removed]",
      "text/plain": [
       "<Figure size 432x288 with 2 Axes>"
      ]
     },
     "metadata": {
      "needs_background": "light"
     },
     "output_type": "display_data"
    }
   ],
   "source": [
    "fig,ax=plt.subplots(1,2)\n",
    "dfr.loc[TrainIndices,'PredToppt'].hist(ax=ax[0],bins=MyBins(0,500,50),label='Prediction')\n",
    "dfr.loc[TrainIndices,'GenToppt'].hist(ax=ax[0],bins=MyBins(0,500,50),histtype='step',label='Truth')\n",
    "ax[0].set_title(\"Train Dataset\")\n",
    "ax[0].legend()\n",
    "ax[0].grid(False)\n",
    "\n",
    "dfr.loc[TestIndices,'PredToppt'].hist(ax=ax[1],bins=MyBins(0,500,50),label='Prediction')\n",
    "dfr.loc[TestIndices,'GenToppt'].hist(ax=ax[1],bins=MyBins(0,500,50),histtype='step',label='Truth')\n",
    "ax[1].set_title(\"Test Dataset\")\n",
    "ax[1].legend()\n",
    "ax[1].grid(False)"
   ]
  },
  {
   "cell_type": "markdown",
   "id": "597a1ef4",
   "metadata": {},
   "source": [
    "## Trying increasing the input features"
   ]
  },
  {
   "cell_type": "code",
   "execution_count": 40,
   "id": "ef0ef4d8",
   "metadata": {},
   "outputs": [],
   "source": [
    "df=split('Jet_pfCombinedInclusiveSecondaryVertexV2BJetTags',df)"
   ]
  },
  {
   "cell_type": "code",
   "execution_count": 41,
   "id": "ea5e9e46",
   "metadata": {},
   "outputs": [
    {
     "data": {
      "text/plain": [
       "42191"
      ]
     },
     "execution_count": 41,
     "metadata": {},
     "output_type": "execute_result"
    }
   ],
   "source": [
    "dfr=df[[\"Muon_pt0\",\"Muon_eta0\",\"Muon_phi0\",\n",
    "        \"Jet_pt0\",\"Jet_eta0\",\"Jet_phi0\",'Jet_pfCombinedInclusiveSecondaryVertexV2BJetTags0',\n",
    "        \"Jet_pt1\",\"Jet_eta1\",\"Jet_phi1\",'Jet_pfCombinedInclusiveSecondaryVertexV2BJetTags1',\n",
    "        \"Jet_pt2\",\"Jet_eta2\",\"Jet_phi2\",'Jet_pfCombinedInclusiveSecondaryVertexV2BJetTags2',\n",
    "        'Met_type1PF_pt','Met_type1PF_sumEt','NMuons','NJets','GenToppt']]\n",
    "len(df)"
   ]
  },
  {
   "cell_type": "markdown",
   "id": "6e105440",
   "metadata": {},
   "source": [
    "## Runing the full chain again"
   ]
  },
  {
   "cell_type": "code",
   "execution_count": 42,
   "id": "72ee3ecf",
   "metadata": {},
   "outputs": [
    {
     "name": "stderr",
     "output_type": "stream",
     "text": [
      "/home/akapoor/miniconda3/envs/py39_tf2.4gpu/lib/python3.9/site-packages/pandas/core/indexing.py:1599: SettingWithCopyWarning: \n",
      "A value is trying to be set on a copy of a slice from a DataFrame.\n",
      "Try using .loc[row_indexer,col_indexer] = value instead\n",
      "\n",
      "See the caveats in the documentation: https://pandas.pydata.org/pandas-docs/stable/user_guide/indexing.html#returning-a-view-versus-a-copy\n",
      "  self.obj[key] = infer_fill_value(value)\n",
      "/home/akapoor/miniconda3/envs/py39_tf2.4gpu/lib/python3.9/site-packages/pandas/core/indexing.py:1720: SettingWithCopyWarning: \n",
      "A value is trying to be set on a copy of a slice from a DataFrame.\n",
      "Try using .loc[row_indexer,col_indexer] = value instead\n",
      "\n",
      "See the caveats in the documentation: https://pandas.pydata.org/pandas-docs/stable/user_guide/indexing.html#returning-a-view-versus-a-copy\n",
      "  self._setitem_single_column(loc, value, pi)\n"
     ]
    },
    {
     "name": "stdout",
     "output_type": "stream",
     "text": [
      "(33752, 19)\n"
     ]
    },
    {
     "name": "stderr",
     "output_type": "stream",
     "text": [
      "<ipython-input-42-7e1b83d45187>:31: SettingWithCopyWarning: \n",
      "A value is trying to be set on a copy of a slice from a DataFrame.\n",
      "Try using .loc[row_indexer,col_indexer] = value instead\n",
      "\n",
      "See the caveats in the documentation: https://pandas.pydata.org/pandas-docs/stable/user_guide/indexing.html#returning-a-view-versus-a-copy\n",
      "  dfr['PredToppt']=0\n",
      "/home/akapoor/miniconda3/envs/py39_tf2.4gpu/lib/python3.9/site-packages/pandas/core/indexing.py:1676: SettingWithCopyWarning: \n",
      "A value is trying to be set on a copy of a slice from a DataFrame.\n",
      "Try using .loc[row_indexer,col_indexer] = value instead\n",
      "\n",
      "See the caveats in the documentation: https://pandas.pydata.org/pandas-docs/stable/user_guide/indexing.html#returning-a-view-versus-a-copy\n",
      "  self._setitem_single_column(ilocs[0], value, pi)\n"
     ]
    }
   ],
   "source": [
    "index = dfr.index\n",
    "from sklearn.model_selection import train_test_split\n",
    "\n",
    "TrainIndices=[]\n",
    "TestIndices=[]\n",
    "TrainIndices, TestIndices = train_test_split(index.values.tolist(), test_size=0.2, random_state=42, shuffle=True)\n",
    "dfr.loc[TrainIndices,'Dataset'] = \"Train\"\n",
    "dfr.loc[TestIndices,'Dataset'] = \"Test\"\n",
    "\n",
    "dfr.loc[TrainIndices,'TrainDataset'] = 1\n",
    "dfr.loc[TestIndices,'TrainDataset'] = 0\n",
    "\n",
    "model = XGBRegressor(objective='reg:squarederror')\n",
    "\n",
    "X_train=dfr.loc[TrainIndices,[\"Muon_pt0\",\"Muon_eta0\",\"Muon_phi0\",\n",
    "                              \"Jet_pt0\",\"Jet_eta0\",\"Jet_phi0\",'Jet_pfCombinedInclusiveSecondaryVertexV2BJetTags0',\n",
    "                              \"Jet_pt1\",\"Jet_eta1\",\"Jet_phi1\",'Jet_pfCombinedInclusiveSecondaryVertexV2BJetTags1',\n",
    "                              \"Jet_pt2\",\"Jet_eta2\",\"Jet_phi2\",'Jet_pfCombinedInclusiveSecondaryVertexV2BJetTags2',\n",
    "                              'Met_type1PF_pt','Met_type1PF_sumEt','NMuons','NJets']]\n",
    "X_test=dfr.loc[TestIndices,[\"Muon_pt0\",\"Muon_eta0\",\"Muon_phi0\",\n",
    "                              \"Jet_pt0\",\"Jet_eta0\",\"Jet_phi0\",'Jet_pfCombinedInclusiveSecondaryVertexV2BJetTags0',\n",
    "                              \"Jet_pt1\",\"Jet_eta1\",\"Jet_phi1\",'Jet_pfCombinedInclusiveSecondaryVertexV2BJetTags1',\n",
    "                              \"Jet_pt2\",\"Jet_eta2\",\"Jet_phi2\",'Jet_pfCombinedInclusiveSecondaryVertexV2BJetTags2',\n",
    "                              'Met_type1PF_pt','Met_type1PF_sumEt','NMuons','NJets']]\n",
    "Y_train=dfr.loc[TrainIndices,'GenToppt']\n",
    "Y_test=dfr.loc[TestIndices,'GenToppt']\n",
    "\n",
    "print(X_train.shape)\n",
    "\n",
    "model.fit(X_train, Y_train)\n",
    "dfr['PredToppt']=0\n",
    "dfr.loc[TrainIndices,'PredToppt']=model.predict(X_train)\n",
    "dfr.loc[TestIndices,'PredToppt']=model.predict(X_test)"
   ]
  },
  {
   "cell_type": "code",
   "execution_count": 43,
   "id": "4fb5bdc1",
   "metadata": {},
   "outputs": [
    {
     "data": {
      "image/png": "[encoded data removed]",
      "text/plain": [
       "<Figure size 432x288 with 2 Axes>"
      ]
     },
     "metadata": {
      "needs_background": "light"
     },
     "output_type": "display_data"
    }
   ],
   "source": [
    "fig,ax=plt.subplots(1,2)\n",
    "dfr.loc[TrainIndices,'PredToppt'].hist(ax=ax[0],bins=MyBins(0,500,50),label='Prediction')\n",
    "dfr.loc[TrainIndices,'GenToppt'].hist(ax=ax[0],bins=MyBins(0,500,50),histtype='step',label='Truth')\n",
    "ax[0].set_title(\"Train Dataset\")\n",
    "ax[0].legend()\n",
    "ax[0].grid(False)\n",
    "\n",
    "dfr.loc[TestIndices,'PredToppt'].hist(ax=ax[1],bins=MyBins(0,500,50),label='Prediction')\n",
    "dfr.loc[TestIndices,'GenToppt'].hist(ax=ax[1],bins=MyBins(0,500,50),histtype='step',label='Truth')\n",
    "ax[1].set_title(\"Test Dataset\")\n",
    "ax[1].legend()\n",
    "ax[1].grid(False)"
   ]
  },
  {
   "cell_type": "markdown",
   "id": "313661ae",
   "metadata": {},
   "source": [
    "## Trying a DNN now"
   ]
  },
  {
   "cell_type": "code",
   "execution_count": 44,
   "id": "1083f281",
   "metadata": {},
   "outputs": [],
   "source": [
    "dfk=df[[\"Muon_pt0\",\"Muon_eta0\",\"Muon_phi0\",\n",
    "        \"Jet_pt0\",\"Jet_eta0\",\"Jet_phi0\",'Jet_pfCombinedInclusiveSecondaryVertexV2BJetTags0',\n",
    "        \"Jet_pt1\",\"Jet_eta1\",\"Jet_phi1\",'Jet_pfCombinedInclusiveSecondaryVertexV2BJetTags1',\n",
    "        \"Jet_pt2\",\"Jet_eta2\",\"Jet_phi2\",'Jet_pfCombinedInclusiveSecondaryVertexV2BJetTags2',\n",
    "        'Met_type1PF_pt','Met_type1PF_sumEt','NMuons','NJets','GenToppt']]"
   ]
  },
  {
   "cell_type": "markdown",
   "id": "e870641e",
   "metadata": {},
   "source": [
    "## Creating the training and testing dataset"
   ]
  },
  {
   "cell_type": "code",
   "execution_count": 45,
   "id": "f818ed64",
   "metadata": {},
   "outputs": [
    {
     "name": "stdout",
     "output_type": "stream",
     "text": [
      "(33752, 19)\n",
      "(8439, 19)\n",
      "(33752,)\n",
      "(8439,)\n"
     ]
    },
    {
     "name": "stderr",
     "output_type": "stream",
     "text": [
      "/home/akapoor/miniconda3/envs/py39_tf2.4gpu/lib/python3.9/site-packages/pandas/core/indexing.py:1599: SettingWithCopyWarning: \n",
      "A value is trying to be set on a copy of a slice from a DataFrame.\n",
      "Try using .loc[row_indexer,col_indexer] = value instead\n",
      "\n",
      "See the caveats in the documentation: https://pandas.pydata.org/pandas-docs/stable/user_guide/indexing.html#returning-a-view-versus-a-copy\n",
      "  self.obj[key] = infer_fill_value(value)\n",
      "/home/akapoor/miniconda3/envs/py39_tf2.4gpu/lib/python3.9/site-packages/pandas/core/indexing.py:1720: SettingWithCopyWarning: \n",
      "A value is trying to be set on a copy of a slice from a DataFrame.\n",
      "Try using .loc[row_indexer,col_indexer] = value instead\n",
      "\n",
      "See the caveats in the documentation: https://pandas.pydata.org/pandas-docs/stable/user_guide/indexing.html#returning-a-view-versus-a-copy\n",
      "  self._setitem_single_column(loc, value, pi)\n"
     ]
    }
   ],
   "source": [
    "index = dfk.index\n",
    "from sklearn.model_selection import train_test_split\n",
    "\n",
    "TrainIndices=[]\n",
    "TestIndices=[]\n",
    "TrainIndices, TestIndices = train_test_split(index.values.tolist(), test_size=0.2, random_state=42, shuffle=True)\n",
    "dfk.loc[TrainIndices,'Dataset'] = \"Train\"\n",
    "dfk.loc[TestIndices,'Dataset'] = \"Test\"\n",
    "\n",
    "dfk.loc[TrainIndices,'TrainDataset'] = 1\n",
    "dfk.loc[TestIndices,'TrainDataset'] = 0\n",
    "\n",
    "X_train=dfk.loc[TrainIndices,[\"Muon_pt0\",\"Muon_eta0\",\"Muon_phi0\",\n",
    "                              \"Jet_pt0\",\"Jet_eta0\",\"Jet_phi0\",'Jet_pfCombinedInclusiveSecondaryVertexV2BJetTags0',\n",
    "                              \"Jet_pt1\",\"Jet_eta1\",\"Jet_phi1\",'Jet_pfCombinedInclusiveSecondaryVertexV2BJetTags1',\n",
    "                              \"Jet_pt2\",\"Jet_eta2\",\"Jet_phi2\",'Jet_pfCombinedInclusiveSecondaryVertexV2BJetTags2',\n",
    "                              'Met_type1PF_pt','Met_type1PF_sumEt','NMuons','NJets']]\n",
    "X_test=dfk.loc[TestIndices,[\"Muon_pt0\",\"Muon_eta0\",\"Muon_phi0\",\n",
    "                              \"Jet_pt0\",\"Jet_eta0\",\"Jet_phi0\",'Jet_pfCombinedInclusiveSecondaryVertexV2BJetTags0',\n",
    "                              \"Jet_pt1\",\"Jet_eta1\",\"Jet_phi1\",'Jet_pfCombinedInclusiveSecondaryVertexV2BJetTags1',\n",
    "                              \"Jet_pt2\",\"Jet_eta2\",\"Jet_phi2\",'Jet_pfCombinedInclusiveSecondaryVertexV2BJetTags2',\n",
    "                              'Met_type1PF_pt','Met_type1PF_sumEt','NMuons','NJets']]\n",
    "Y_train=dfk.loc[TrainIndices,'GenToppt']\n",
    "Y_test=dfk.loc[TestIndices,'GenToppt']\n",
    "\n",
    "print(X_train.shape)\n",
    "print(X_test.shape)\n",
    "\n",
    "print(Y_train.shape)\n",
    "print(Y_test.shape)"
   ]
  },
  {
   "cell_type": "markdown",
   "id": "1368d1d0",
   "metadata": {},
   "source": [
    "## Preparation for DNN"
   ]
  },
  {
   "cell_type": "code",
   "execution_count": 46,
   "id": "d84f778d",
   "metadata": {},
   "outputs": [],
   "source": [
    "import numpy as np\n",
    "from tensorflow.keras.models import Sequential\n",
    "from tensorflow.keras.layers import Dense, Activation\n",
    "from tensorflow.keras.optimizers import Adam\n",
    "from tensorflow.keras.layers import Dropout\n",
    "from tensorflow.keras.callbacks import EarlyStopping"
   ]
  },
  {
   "attachments": {
    "image.png": {
     "image/png": "[encoded data removed]"
    }
   },
   "cell_type": "markdown",
   "id": "61141b69",
   "metadata": {},
   "source": [
    "## DNN structure\n",
    "\n",
    "![image.png](attachment:image.png)"
   ]
  },
  {
   "cell_type": "code",
   "execution_count": 47,
   "id": "2f351716",
   "metadata": {},
   "outputs": [],
   "source": [
    "def baseline_model():\n",
    "    # create model\n",
    "    model = Sequential()\n",
    "    model.add(Dense(19, input_dim=19, kernel_initializer='normal', activation='relu'))\n",
    "    model.add(Dense(38, kernel_initializer='normal',activation='relu'))\n",
    "    model.add(Dense(19, kernel_initializer='normal',activation='relu'))\n",
    "    model.add(Dense(1, kernel_initializer='normal'))\n",
    "    # Compile model\n",
    "    model.compile(loss='mean_absolute_percentage_error', optimizer=Adam(lr=0.0001))\n",
    "    return model"
   ]
  },
  {
   "cell_type": "code",
   "execution_count": 48,
   "id": "7009599c",
   "metadata": {},
   "outputs": [],
   "source": [
    "modelDNN=baseline_model()"
   ]
  },
  {
   "cell_type": "markdown",
   "id": "485b3727",
   "metadata": {},
   "source": [
    "## Starting the training "
   ]
  },
  {
   "cell_type": "code",
   "execution_count": 49,
   "id": "8e952508",
   "metadata": {},
   "outputs": [
    {
     "name": "stdout",
     "output_type": "stream",
     "text": [
      "Epoch 1/100\n",
      "338/338 [==============================] - 3s 6ms/step - loss: 97.1988 - val_loss: 65.5311\n",
      "Epoch 2/100\n",
      "338/338 [==============================] - 1s 4ms/step - loss: 62.0052 - val_loss: 63.1955\n",
      "Epoch 3/100\n",
      "338/338 [==============================] - 1s 4ms/step - loss: 60.8026 - val_loss: 62.3614\n",
      "Epoch 4/100\n",
      "338/338 [==============================] - 1s 4ms/step - loss: 60.6942 - val_loss: 61.4427\n",
      "Epoch 5/100\n",
      "338/338 [==============================] - 1s 4ms/step - loss: 59.4483 - val_loss: 60.3282\n",
      "Epoch 6/100\n",
      "338/338 [==============================] - 1s 4ms/step - loss: 58.0801 - val_loss: 59.0047\n",
      "Epoch 7/100\n",
      "338/338 [==============================] - 1s 4ms/step - loss: 56.8298 - val_loss: 57.6984\n",
      "Epoch 8/100\n",
      "338/338 [==============================] - 1s 4ms/step - loss: 56.8447 - val_loss: 56.6882\n",
      "Epoch 9/100\n",
      "338/338 [==============================] - 1s 4ms/step - loss: 55.1536 - val_loss: 56.1056\n",
      "Epoch 10/100\n",
      "338/338 [==============================] - 1s 4ms/step - loss: 55.2186 - val_loss: 55.8428\n",
      "Epoch 11/100\n",
      "338/338 [==============================] - 1s 4ms/step - loss: 54.0978 - val_loss: 55.7033\n",
      "Epoch 12/100\n",
      "338/338 [==============================] - 1s 4ms/step - loss: 54.4023 - val_loss: 55.6529\n",
      "Epoch 13/100\n",
      "338/338 [==============================] - 1s 4ms/step - loss: 54.0280 - val_loss: 55.6195\n",
      "Epoch 14/100\n",
      "338/338 [==============================] - 1s 4ms/step - loss: 54.1823 - val_loss: 55.5904\n",
      "Epoch 15/100\n",
      "338/338 [==============================] - 1s 4ms/step - loss: 54.2595 - val_loss: 55.5480\n",
      "Epoch 16/100\n",
      "338/338 [==============================] - 1s 4ms/step - loss: 54.8769 - val_loss: 55.6273\n",
      "Epoch 17/100\n",
      "338/338 [==============================] - 1s 4ms/step - loss: 54.3738 - val_loss: 55.5685\n",
      "Epoch 18/100\n",
      "338/338 [==============================] - 1s 4ms/step - loss: 54.3016 - val_loss: 55.5425\n",
      "Epoch 19/100\n",
      "338/338 [==============================] - 1s 4ms/step - loss: 55.0696 - val_loss: 55.4208\n",
      "Epoch 20/100\n",
      "338/338 [==============================] - 1s 4ms/step - loss: 54.7664 - val_loss: 55.6143\n",
      "Epoch 21/100\n",
      "338/338 [==============================] - 1s 4ms/step - loss: 54.3767 - val_loss: 55.3642\n",
      "Epoch 22/100\n",
      "338/338 [==============================] - 1s 3ms/step - loss: 53.5870 - val_loss: 55.3725\n",
      "Epoch 23/100\n",
      "338/338 [==============================] - 1s 4ms/step - loss: 54.2781 - val_loss: 55.3442\n",
      "Epoch 24/100\n",
      "338/338 [==============================] - 1s 4ms/step - loss: 53.8691 - val_loss: 55.3218\n",
      "Epoch 25/100\n",
      "338/338 [==============================] - 1s 4ms/step - loss: 55.1283 - val_loss: 55.3141\n",
      "Epoch 26/100\n",
      "338/338 [==============================] - 1s 3ms/step - loss: 52.7314 - val_loss: 55.2974\n",
      "Epoch 27/100\n",
      "338/338 [==============================] - 1s 4ms/step - loss: 54.8041 - val_loss: 55.1837\n",
      "Epoch 28/100\n",
      "338/338 [==============================] - 1s 4ms/step - loss: 53.2852 - val_loss: 55.1565\n",
      "Epoch 29/100\n",
      "338/338 [==============================] - 1s 4ms/step - loss: 54.9798 - val_loss: 55.1140\n",
      "Epoch 30/100\n",
      "338/338 [==============================] - 1s 4ms/step - loss: 53.1151 - val_loss: 55.1542\n",
      "Epoch 31/100\n",
      "338/338 [==============================] - 1s 4ms/step - loss: 53.1276 - val_loss: 55.0651\n",
      "Epoch 32/100\n",
      "338/338 [==============================] - 1s 4ms/step - loss: 54.2327 - val_loss: 55.2112\n",
      "Epoch 33/100\n",
      "338/338 [==============================] - 1s 4ms/step - loss: 53.9446 - val_loss: 54.9911\n",
      "Epoch 34/100\n",
      "338/338 [==============================] - 1s 4ms/step - loss: 54.3999 - val_loss: 54.9436\n",
      "Epoch 35/100\n",
      "338/338 [==============================] - 1s 4ms/step - loss: 52.9299 - val_loss: 54.9546\n",
      "Epoch 36/100\n",
      "338/338 [==============================] - 1s 4ms/step - loss: 54.3656 - val_loss: 54.9012\n",
      "Epoch 37/100\n",
      "338/338 [==============================] - 1s 4ms/step - loss: 54.8544 - val_loss: 55.0893\n",
      "Epoch 38/100\n",
      "338/338 [==============================] - 1s 3ms/step - loss: 53.8193 - val_loss: 54.8385\n",
      "Epoch 39/100\n",
      "338/338 [==============================] - 1s 4ms/step - loss: 55.0033 - val_loss: 54.7957\n",
      "Epoch 40/100\n",
      "338/338 [==============================] - 1s 3ms/step - loss: 53.7889 - val_loss: 54.8373\n",
      "Epoch 41/100\n",
      "338/338 [==============================] - 1s 3ms/step - loss: 53.3481 - val_loss: 54.7858\n",
      "Epoch 42/100\n",
      "338/338 [==============================] - 1s 4ms/step - loss: 54.3531 - val_loss: 54.6919\n",
      "Epoch 43/100\n",
      "338/338 [==============================] - 1s 3ms/step - loss: 53.4700 - val_loss: 54.7103\n",
      "Epoch 44/100\n",
      "338/338 [==============================] - 1s 4ms/step - loss: 53.0047 - val_loss: 54.6503\n",
      "Epoch 45/100\n",
      "338/338 [==============================] - 1s 4ms/step - loss: 54.2877 - val_loss: 54.5515\n",
      "Epoch 46/100\n",
      "338/338 [==============================] - 1s 4ms/step - loss: 52.1409 - val_loss: 54.5579\n",
      "Epoch 47/100\n",
      "338/338 [==============================] - 1s 3ms/step - loss: 52.7416 - val_loss: 54.6231\n",
      "Epoch 48/100\n",
      "338/338 [==============================] - 1s 4ms/step - loss: 53.9525 - val_loss: 54.4945\n",
      "Epoch 49/100\n",
      "338/338 [==============================] - 1s 3ms/step - loss: 53.4716 - val_loss: 54.5234\n",
      "Epoch 50/100\n",
      "338/338 [==============================] - 1s 4ms/step - loss: 52.3222 - val_loss: 54.5065\n",
      "Epoch 51/100\n",
      "338/338 [==============================] - 1s 4ms/step - loss: 53.4352 - val_loss: 54.4408\n",
      "Epoch 52/100\n",
      "338/338 [==============================] - 1s 4ms/step - loss: 52.3872 - val_loss: 54.4128\n",
      "Epoch 53/100\n",
      "338/338 [==============================] - 1s 3ms/step - loss: 52.9697 - val_loss: 54.4087\n",
      "Epoch 54/100\n",
      "338/338 [==============================] - 1s 4ms/step - loss: 54.2350 - val_loss: 54.3117\n",
      "Epoch 55/100\n",
      "338/338 [==============================] - 1s 4ms/step - loss: 53.3864 - val_loss: 54.2051\n",
      "Epoch 56/100\n",
      "338/338 [==============================] - 1s 4ms/step - loss: 52.8692 - val_loss: 54.2026\n",
      "Epoch 57/100\n",
      "338/338 [==============================] - 1s 4ms/step - loss: 54.2793 - val_loss: 54.3591\n",
      "Epoch 58/100\n",
      "338/338 [==============================] - 1s 4ms/step - loss: 53.0323 - val_loss: 54.1323\n",
      "Epoch 59/100\n",
      "338/338 [==============================] - 1s 4ms/step - loss: 52.0036 - val_loss: 54.1793\n",
      "Epoch 60/100\n",
      "338/338 [==============================] - 1s 4ms/step - loss: 52.6776 - val_loss: 54.1478\n",
      "Epoch 61/100\n",
      "338/338 [==============================] - 1s 4ms/step - loss: 52.9354 - val_loss: 54.1612\n",
      "Epoch 62/100\n",
      "338/338 [==============================] - 1s 4ms/step - loss: 53.8507 - val_loss: 54.1083\n",
      "Epoch 63/100\n",
      "338/338 [==============================] - 1s 4ms/step - loss: 54.2865 - val_loss: 54.0146\n",
      "Epoch 64/100\n",
      "338/338 [==============================] - 1s 4ms/step - loss: 52.4559 - val_loss: 53.9824\n",
      "Epoch 65/100\n",
      "338/338 [==============================] - 1s 4ms/step - loss: 53.2794 - val_loss: 54.0676\n",
      "Epoch 66/100\n",
      "338/338 [==============================] - 1s 3ms/step - loss: 53.0638 - val_loss: 53.9619\n",
      "Epoch 67/100\n",
      "338/338 [==============================] - 1s 4ms/step - loss: 52.8048 - val_loss: 54.0170\n",
      "Epoch 68/100\n",
      "338/338 [==============================] - 1s 4ms/step - loss: 52.0266 - val_loss: 53.9499\n",
      "Epoch 69/100\n",
      "338/338 [==============================] - 1s 4ms/step - loss: 53.1867 - val_loss: 53.9840\n",
      "Epoch 70/100\n",
      "338/338 [==============================] - 1s 4ms/step - loss: 54.3754 - val_loss: 53.9177\n",
      "Epoch 71/100\n",
      "338/338 [==============================] - 1s 3ms/step - loss: 51.9263 - val_loss: 53.8689\n",
      "Epoch 72/100\n",
      "338/338 [==============================] - 1s 3ms/step - loss: 52.8977 - val_loss: 53.8695\n",
      "Epoch 73/100\n",
      "338/338 [==============================] - 1s 3ms/step - loss: 53.8040 - val_loss: 53.9044\n",
      "Epoch 74/100\n",
      "338/338 [==============================] - 1s 4ms/step - loss: 51.8980 - val_loss: 53.7988\n",
      "Epoch 75/100\n",
      "338/338 [==============================] - 1s 4ms/step - loss: 52.9423 - val_loss: 53.7982\n",
      "Epoch 76/100\n",
      "338/338 [==============================] - 1s 3ms/step - loss: 53.1093 - val_loss: 53.7857\n",
      "Epoch 77/100\n",
      "338/338 [==============================] - 1s 4ms/step - loss: 52.8675 - val_loss: 53.7617\n",
      "Epoch 78/100\n",
      "338/338 [==============================] - 1s 4ms/step - loss: 52.1628 - val_loss: 53.6793\n",
      "Epoch 79/100\n",
      "338/338 [==============================] - 1s 4ms/step - loss: 52.1747 - val_loss: 53.7665\n"
     ]
    },
    {
     "name": "stdout",
     "output_type": "stream",
     "text": [
      "Epoch 80/100\n",
      "338/338 [==============================] - 1s 4ms/step - loss: 51.4902 - val_loss: 54.2523\n",
      "Epoch 81/100\n",
      "338/338 [==============================] - 1s 3ms/step - loss: 52.1193 - val_loss: 53.7854\n",
      "Epoch 82/100\n",
      "338/338 [==============================] - 1s 4ms/step - loss: 53.7756 - val_loss: 53.6819\n",
      "Epoch 83/100\n",
      "338/338 [==============================] - 1s 4ms/step - loss: 52.4504 - val_loss: 53.6823\n",
      "Epoch 84/100\n",
      "338/338 [==============================] - 1s 4ms/step - loss: 52.4626 - val_loss: 53.6284\n",
      "Epoch 85/100\n",
      "338/338 [==============================] - 1s 4ms/step - loss: 51.8220 - val_loss: 53.6345\n",
      "Epoch 86/100\n",
      "338/338 [==============================] - 2s 5ms/step - loss: 53.1649 - val_loss: 53.6175\n",
      "Epoch 87/100\n",
      "338/338 [==============================] - 1s 4ms/step - loss: 53.0898 - val_loss: 53.6704\n",
      "Epoch 88/100\n",
      "338/338 [==============================] - 1s 4ms/step - loss: 52.6734 - val_loss: 53.6020\n",
      "Epoch 89/100\n",
      "338/338 [==============================] - 1s 4ms/step - loss: 52.3431 - val_loss: 53.5560\n",
      "Epoch 90/100\n",
      "338/338 [==============================] - 1s 4ms/step - loss: 52.1287 - val_loss: 53.5413\n",
      "Epoch 91/100\n",
      "338/338 [==============================] - 1s 4ms/step - loss: 52.8486 - val_loss: 53.5415\n",
      "Epoch 92/100\n",
      "338/338 [==============================] - 1s 4ms/step - loss: 53.1767 - val_loss: 53.5480\n",
      "Epoch 93/100\n",
      "338/338 [==============================] - 1s 4ms/step - loss: 53.1189 - val_loss: 53.5588\n",
      "Epoch 94/100\n",
      "338/338 [==============================] - 1s 4ms/step - loss: 52.7285 - val_loss: 53.5917\n",
      "Epoch 95/100\n",
      "338/338 [==============================] - 1s 4ms/step - loss: 53.9616 - val_loss: 53.5691\n",
      "Epoch 96/100\n",
      "338/338 [==============================] - 1s 4ms/step - loss: 52.0656 - val_loss: 53.5072\n",
      "Epoch 97/100\n",
      "338/338 [==============================] - 1s 4ms/step - loss: 52.0350 - val_loss: 53.5043\n",
      "Epoch 98/100\n",
      "338/338 [==============================] - 1s 4ms/step - loss: 52.7995 - val_loss: 53.5197\n",
      "Epoch 99/100\n",
      "338/338 [==============================] - 1s 4ms/step - loss: 52.2302 - val_loss: 53.4450\n",
      "Epoch 100/100\n",
      "338/338 [==============================] - 1s 4ms/step - loss: 53.8528 - val_loss: 53.5185\n"
     ]
    }
   ],
   "source": [
    "from tensorflow.keras.callbacks import EarlyStopping\n",
    "es=EarlyStopping(monitor='val_loss', mode='min', verbose=1, patience=10)\n",
    "history=modelDNN.fit(X_train,Y_train,epochs=100,batch_size=100,validation_data=(X_test, Y_test),callbacks=[es])"
   ]
  },
  {
   "cell_type": "markdown",
   "id": "741790cd",
   "metadata": {},
   "source": [
    "## Loss plot"
   ]
  },
  {
   "cell_type": "code",
   "execution_count": 50,
   "id": "3a0484b9",
   "metadata": {},
   "outputs": [
    {
     "data": {
      "image/png": "[encoded data removed]",
      "text/plain": [
       "<Figure size 432x288 with 1 Axes>"
      ]
     },
     "metadata": {
      "needs_background": "light"
     },
     "output_type": "display_data"
    }
   ],
   "source": [
    "plt.plot(history.history['loss'])\n",
    "plt.plot(history.history['val_loss'])\n",
    "plt.title('model loss')\n",
    "plt.ylabel('loss')\n",
    "plt.xlabel('epoch')\n",
    "plt.legend(['train', 'val'], loc='upper left')\n",
    "plt.show()"
   ]
  },
  {
   "cell_type": "markdown",
   "id": "3088bcb8",
   "metadata": {},
   "source": [
    "## Storing both the XGBoost and DNN output in the dataframe"
   ]
  },
  {
   "cell_type": "code",
   "execution_count": 51,
   "id": "af9c15a4",
   "metadata": {},
   "outputs": [
    {
     "name": "stderr",
     "output_type": "stream",
     "text": [
      "<ipython-input-51-55815f6fff1b>:1: SettingWithCopyWarning: \n",
      "A value is trying to be set on a copy of a slice from a DataFrame.\n",
      "Try using .loc[row_indexer,col_indexer] = value instead\n",
      "\n",
      "See the caveats in the documentation: https://pandas.pydata.org/pandas-docs/stable/user_guide/indexing.html#returning-a-view-versus-a-copy\n",
      "  dfk['DNNPredToppt']=0\n",
      "/home/akapoor/miniconda3/envs/py39_tf2.4gpu/lib/python3.9/site-packages/pandas/core/indexing.py:1738: SettingWithCopyWarning: \n",
      "A value is trying to be set on a copy of a slice from a DataFrame.\n",
      "Try using .loc[row_indexer,col_indexer] = value instead\n",
      "\n",
      "See the caveats in the documentation: https://pandas.pydata.org/pandas-docs/stable/user_guide/indexing.html#returning-a-view-versus-a-copy\n",
      "  self._setitem_single_column(loc, value[:, i].tolist(), pi)\n",
      "/home/akapoor/miniconda3/envs/py39_tf2.4gpu/lib/python3.9/site-packages/pandas/core/indexing.py:1738: SettingWithCopyWarning: \n",
      "A value is trying to be set on a copy of a slice from a DataFrame.\n",
      "Try using .loc[row_indexer,col_indexer] = value instead\n",
      "\n",
      "See the caveats in the documentation: https://pandas.pydata.org/pandas-docs/stable/user_guide/indexing.html#returning-a-view-versus-a-copy\n",
      "  self._setitem_single_column(loc, value[:, i].tolist(), pi)\n",
      "/home/akapoor/miniconda3/envs/py39_tf2.4gpu/lib/python3.9/site-packages/pandas/core/indexing.py:1599: SettingWithCopyWarning: \n",
      "A value is trying to be set on a copy of a slice from a DataFrame.\n",
      "Try using .loc[row_indexer,col_indexer] = value instead\n",
      "\n",
      "See the caveats in the documentation: https://pandas.pydata.org/pandas-docs/stable/user_guide/indexing.html#returning-a-view-versus-a-copy\n",
      "  self.obj[key] = infer_fill_value(value)\n",
      "/home/akapoor/miniconda3/envs/py39_tf2.4gpu/lib/python3.9/site-packages/pandas/core/indexing.py:1676: SettingWithCopyWarning: \n",
      "A value is trying to be set on a copy of a slice from a DataFrame.\n",
      "Try using .loc[row_indexer,col_indexer] = value instead\n",
      "\n",
      "See the caveats in the documentation: https://pandas.pydata.org/pandas-docs/stable/user_guide/indexing.html#returning-a-view-versus-a-copy\n",
      "  self._setitem_single_column(ilocs[0], value, pi)\n"
     ]
    }
   ],
   "source": [
    "dfk['DNNPredToppt']=0\n",
    "dfk.loc[TrainIndices,'DNNPredToppt']=modelDNN.predict(X_train)\n",
    "dfk.loc[TestIndices,'DNNPredToppt']=modelDNN.predict(X_test)\n",
    "\n",
    "dfk.loc[TrainIndices,'XGBPredToppt']=model.predict(X_train)\n",
    "dfk.loc[TestIndices,'XGBPredToppt']=model.predict(X_test)"
   ]
  },
  {
   "cell_type": "code",
   "execution_count": 52,
   "id": "ea09e0d3",
   "metadata": {},
   "outputs": [
    {
     "data": {
      "image/png": "[encoded data removed]",
      "text/plain": [
       "<Figure size 720x360 with 2 Axes>"
      ]
     },
     "metadata": {
      "needs_background": "light"
     },
     "output_type": "display_data"
    }
   ],
   "source": [
    "fig,ax=plt.subplots(1,2,figsize=(10,5))\n",
    "dfr.loc[TrainIndices,'PredToppt'].hist(ax=ax[0],bins=MyBins(0,500,50),label='XGBPrediction',histtype='step')\n",
    "dfk.loc[TrainIndices,'DNNPredToppt'].hist(ax=ax[0],bins=MyBins(0,500,50),label='DNNPrediction',histtype='step')\n",
    "dfk.loc[TrainIndices,'GenToppt'].hist(ax=ax[0],bins=MyBins(0,500,50),label='Truth',alpha=0.3)\n",
    "ax[0].set_title(\"Train Dataset\")\n",
    "ax[0].set_ylabel(\"Events\")\n",
    "ax[0].set_xlabel(\"Top $p_T$\")\n",
    "ax[0].legend()\n",
    "ax[0].grid(False)\n",
    "\n",
    "dfr.loc[TestIndices,'PredToppt'].hist(ax=ax[1],bins=MyBins(0,500,50),label='XGBPrediction',histtype='step')\n",
    "dfk.loc[TestIndices,'DNNPredToppt'].hist(ax=ax[1],bins=MyBins(0,500,50),label='DNNPrediction',histtype='step')\n",
    "dfk.loc[TestIndices,'GenToppt'].hist(ax=ax[1],bins=MyBins(0,500,50),label='Truth',alpha=0.3)\n",
    "ax[1].set_title(\"Test Dataset\")\n",
    "ax[1].set_ylabel(\"Events\")\n",
    "ax[1].set_xlabel(\"Top $p_T$\")\n",
    "ax[1].legend()\n",
    "ax[1].grid(False)"
   ]
  },
  {
   "cell_type": "code",
   "execution_count": null,
   "id": "50601816",
   "metadata": {},
   "outputs": [],
   "source": []
  }
 ],
 "metadata": {
  "kernelspec": {
   "display_name": "Python 3",
   "language": "python",
   "name": "python3"
  },
  "language_info": {
   "codemirror_mode": {
    "name": "ipython",
    "version": 3
   },
   "file_extension": ".py",
   "mimetype": "text/x-python",
   "name": "python",
   "nbconvert_exporter": "python",
   "pygments_lexer": "ipython3",
   "version": "3.8.5"
  }
 },
 "nbformat": 4,
 "nbformat_minor": 5
}
